{
 "cells": [
  {
   "cell_type": "code",
   "execution_count": 2,
   "metadata": {},
   "outputs": [],
   "source": [
    "import pygsheets\n",
    "import pandas as pd\n",
    "from datetime import datetime"
   ]
  },
  {
   "cell_type": "code",
   "execution_count": 3,
   "metadata": {},
   "outputs": [
    {
     "name": "stdout",
     "output_type": "stream",
     "text": [
      "12/28/2021, 13:34:06 Starting Fetching Gsheet Data\n"
     ]
    }
   ],
   "source": [
    "gsheetUrl = 'https://docs.google.com/spreadsheets/d/18p29TJI2qDHbuk7bwcKLUopmKZ8uhWBGOZD8l4LIhIY/edit?usp=sharing'\n",
    "gc = pygsheets.authorize(service_file='/Users/a/Documents/GitHub/exception_visibility/ETL/Client_Secret.json')\n",
    "print(datetime.now().strftime(\"%m/%d/%Y, %H:%M:%S\") + ' Starting Fetching Gsheet Data')\n",
    "sh = gc.open_by_url(gsheetUrl)"
   ]
  },
  {
   "cell_type": "code",
   "execution_count": 10,
   "metadata": {},
   "outputs": [],
   "source": [
    "sheetcount = len(sh._sheet_list)"
   ]
  },
  {
   "cell_type": "code",
   "execution_count": null,
   "metadata": {},
   "outputs": [],
   "source": []
  }
 ],
 "metadata": {
  "interpreter": {
   "hash": "aee8b7b246df8f9039afb4144a1f6fd8d2ca17a180786b69acc140d282b71a49"
  },
  "kernelspec": {
   "display_name": "Python 3.6.5 64-bit",
   "language": "python",
   "name": "python3"
  },
  "language_info": {
   "codemirror_mode": {
    "name": "ipython",
    "version": 3
   },
   "file_extension": ".py",
   "mimetype": "text/x-python",
   "name": "python",
   "nbconvert_exporter": "python",
   "pygments_lexer": "ipython3",
   "version": "3.6.5"
  },
  "orig_nbformat": 4
 },
 "nbformat": 4,
 "nbformat_minor": 2
}
