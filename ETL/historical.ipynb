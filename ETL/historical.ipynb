{
 "cells": [
  {
   "cell_type": "code",
   "execution_count": 1,
   "metadata": {},
   "outputs": [],
   "source": [
    "# Owner : Akhil A\n",
    "# Version V1\n",
    "# Created on :\n",
    "from logging import error, exception\n",
    "# from httplib2.error import FailedToDecompressContent\n",
    "import pandas as pd\n",
    "import pygsheets\n",
    "import os\n",
    "from datetime import datetime, date\n",
    "import sys\n",
    "\n",
    "import gsheet_utility as gsheetUtility\n",
    "import Email_Code as fkEmail\n",
    "import data_processing as data_processing\n",
    "import numpy as np"
   ]
  },
  {
   "cell_type": "code",
   "execution_count": 4,
   "metadata": {},
   "outputs": [],
   "source": [
    "basePath = '/Users/a/Documents/GitHub/exception_visibility/'\n",
    "################################################################################################\n",
    "####################################### Asset Data Processing #####################################\n",
    "################################################################################################\n",
    "\n",
    "################################################################################################\n",
    "####################################### RC Data Processing #####################################\n",
    "################################################################################################\n",
    "emailUserName = 'akhil.a@flipkart.com'\n",
    "emailPassword = 'tllwlpuyjuhvdjug'\n",
    "rcSPOCS = \"akhil.a@flipkart.com\"\n",
    "\n",
    "date_master_file = pd.read_csv( '/Users/a/Documents/GitHub/exception_visibility/Dashboard/data/week_details.csv')\n",
    "date_master_file['weekday'] = pd.to_datetime(date_master_file[\"weekday\"],format = '%d/%m/%Y').dt.date\n",
    "date_master_file['month_year'] = pd.to_datetime(date_master_file[\"month_year\"],format = '%d/%m/%Y').dt.date\n",
    "\n",
    "rc_raw_data_location = basePath + 'ETL/RC_Raw_Data/'\n",
    "mh_raw_data_location = basePath + 'ETL/MH_Raw_Data/'\n",
    "orphan_raw_data_location = basePath + 'ETL/Orphan_Raw_Data/'\n",
    "hv_orphan_raw_data_location = basePath + 'ETL/HV_Orphan_Raw_Data/'\n",
    "logistics_raw_data_location = basePath + 'ETL/Logistics_Raw_Data/'\n",
    "spf_raw_data_location = basePath + 'ETL/SPF_Raw_Data/'\n",
    "pv_raw_data_location = basePath + 'ETL/PV_Raw_Data/'\n",
    "audit_raw_data_location = basePath + 'ETL/Audit_Raw_Data/'\n",
    "\n",
    "\n",
    "today = date.today()\n",
    "today = str(today.year) + \"-\" + str('{:02d}'.format(today.month)) + \"-\" + str('{:02d}'.format(today.day))\n",
    "\n",
    "rcgsheetdatapath = basePath + 'ETL/gsheet_data/rc_data/' + today + '.csv'\n",
    "mhgsheetdatapath = basePath + 'ETL/gsheet_data/mh_data/' + today + '.csv'\n",
    "orphangsheetdatapath = basePath + 'ETL/gsheet_data/orphan_data/' + today + '.csv'\n",
    "hv_orphangsheetdatapath = basePath + 'ETL/gsheet_data/hv_orphan_data/' + today + '.csv'\n",
    "logisticsgsheetdatapath = basePath + 'ETL/gsheet_data/logistics_data/' + today + '.csv'\n",
    "spfsheetdatapath = basePath + 'ETL/gsheet_data/spf_data/' + today + '.csv'\n",
    "pvsheetdatapath = basePath + 'ETL/gsheet_data/pv_data/' + today + '.csv'\n",
    "historicmetricdatapath = basePath + 'ETL/gsheet_data/historic_data/' + today + '.csv'\n",
    "materialhandlingdatapath = basePath + 'ETL/gsheet_data/material_handling_data/' + today + '.csv'\n",
    "auditsheetdatapath = basePath + 'ETL/gsheet_data/audit_data/' + today + '.csv'"
   ]
  },
  {
   "cell_type": "code",
   "execution_count": 7,
   "metadata": {},
   "outputs": [
    {
     "name": "stdout",
     "output_type": "stream",
     "text": [
      "03/09/2022 19:48:50 Starting audit data process\n",
      "03/09/2022 19:48:50 Starting audit data process\n",
      "03/09/2022, 19:48:50 Starting Fetching Gsheet Data\n",
      "03/09/2022, 19:48:52 Fetching Gsheet Completed\n",
      "Audit\n",
      "A2\n"
     ]
    }
   ],
   "source": [
    "# error_message = ''\n",
    "#     if run_audit == 1:\n",
    "html_message=''\n",
    "html_message = html_message + \"<h2>Data Ingestion Summary for Audit Data Form </h2>\"\n",
    "try:\n",
    "    html_message = html_message + \"Data Ingestion Job for audit data form started at : \" + datetime.now().strftime(\"%m/%d/%Y %H:%M:%S\") + '<br>'\n",
    "    print(datetime.now().strftime(\"%m/%d/%Y %H:%M:%S\") + ' Starting audit data process')\n",
    "    html_message = html_message + \"Starting to fetch audit data from google sheet : \" + datetime.now().strftime(\"%m/%d/%Y %H:%M:%S\") + '<br>'\n",
    "    \n",
    "    print(datetime.now().strftime(\"%m/%d/%Y %H:%M:%S\") + ' Starting audit data process')\n",
    "    historicmetric = gsheetUtility.get_gsheet_data('https://docs.google.com/spreadsheets/d/1jsroohFh1uoPqw-6jCcDztEUYAgukZGwFP0YeKgvhH0/edit?usp=sharing', 'A2', historicmetricdatapath,'Audit',4)\n",
    "    historicmetric.to_csv(basePath + 'Dashboard/data/historicmetric_full_data.csv', index=False)\n",
    "except Exception as ex:\n",
    "        error_message = datetime.now().strftime(\"%d-%m-%Y %H:%M:%S\") + str(ex.__class__).replace('<','').replace('>','') + datetime.now().strftime(\"%d/%m/%Y %H:%M:%S\") + str(ex).replace('<','').replace('>','')\n",
    "        print(error_message)\n",
    "if len(error_message)>0:\n",
    "    html_message = html_message + \"<h2>Error Occured - Data Ingestion Failed for audit data <p> Error Message : \" + error_message + '</h2><br>'\n",
    "else:\n",
    "    html_message = html_message + \"Data Ingestion Successfull for Audit Data form completed at : \" + datetime.now().strftime(\"%m/%d/%Y %H:%M:%S\") + '<br>'"
   ]
  },
  {
   "cell_type": "code",
   "execution_count": 13,
   "metadata": {},
   "outputs": [
    {
     "name": "stdout",
     "output_type": "stream",
     "text": [
      "03/09/2022 20:07:07 Starting audit data process\n",
      "03/09/2022 20:07:07 Starting audit data process\n",
      "03/09/2022, 20:07:07 Starting Fetching Gsheet Data\n",
      "03/09/2022, 20:07:09 Fetching Gsheet Completed\n",
      "Audit\n",
      "A2\n"
     ]
    }
   ],
   "source": [
    "html_message=''\n",
    "html_message = html_message + \"<h2>Data Ingestion Summary for Audit Data Form </h2>\"\n",
    "try:\n",
    "    html_message = html_message + \"Data Ingestion Job for audit data form started at : \" + datetime.now().strftime(\"%m/%d/%Y %H:%M:%S\") + '<br>'\n",
    "    print(datetime.now().strftime(\"%m/%d/%Y %H:%M:%S\") + ' Starting audit data process')\n",
    "    html_message = html_message + \"Starting to fetch audit data from google sheet : \" + datetime.now().strftime(\"%m/%d/%Y %H:%M:%S\") + '<br>'\n",
    "    \n",
    "    print(datetime.now().strftime(\"%m/%d/%Y %H:%M:%S\") + ' Starting audit data process')\n",
    "    materialistic_attribute = gsheetUtility.get_gsheet_data('https://docs.google.com/spreadsheets/d/1jsroohFh1uoPqw-6jCcDztEUYAgukZGwFP0YeKgvhH0/edit?usp=sharing', 'A2', historicmetricdatapath,'Audit',5)\n",
    "    materialistic_attribute.to_csv(basePath + 'Dashboard/data/materialistic_attrition_full_data.csv', index=False)\n",
    "except Exception as ex:\n",
    "        error_message = datetime.now().strftime(\"%d-%m-%Y %H:%M:%S\") + str(ex.__class__).replace('<','').replace('>','') + datetime.now().strftime(\"%d/%m/%Y %H:%M:%S\") + str(ex).replace('<','').replace('>','')\n",
    "        print(error_message)\n",
    "if len(error_message)>0:\n",
    "    html_message = html_message + \"<h2>Error Occured - Data Ingestion Failed for audit data <p> Error Message : \" + error_message + '</h2><br>'\n",
    "else:\n",
    "    html_message = html_message + \"Data Ingestion Successfull for Audit Data form completed at : \" + datetime.now().strftime(\"%m/%d/%Y %H:%M:%S\") + '<br>'"
   ]
  },
  {
   "cell_type": "code",
   "execution_count": 11,
   "metadata": {},
   "outputs": [
    {
     "data": {
      "text/html": [
       "<div>\n",
       "<style scoped>\n",
       "    .dataframe tbody tr th:only-of-type {\n",
       "        vertical-align: middle;\n",
       "    }\n",
       "\n",
       "    .dataframe tbody tr th {\n",
       "        vertical-align: top;\n",
       "    }\n",
       "\n",
       "    .dataframe thead th {\n",
       "        text-align: right;\n",
       "    }\n",
       "</style>\n",
       "<table border=\"1\" class=\"dataframe\">\n",
       "  <thead>\n",
       "    <tr style=\"text-align: right;\">\n",
       "      <th></th>\n",
       "      <th>Month</th>\n",
       "      <th>Attribution %</th>\n",
       "    </tr>\n",
       "  </thead>\n",
       "  <tbody>\n",
       "    <tr>\n",
       "      <th>1</th>\n",
       "      <td>Sep-2021</td>\n",
       "      <td>45%</td>\n",
       "    </tr>\n",
       "    <tr>\n",
       "      <th>2</th>\n",
       "      <td>Oct-2021</td>\n",
       "      <td>32%</td>\n",
       "    </tr>\n",
       "    <tr>\n",
       "      <th>3</th>\n",
       "      <td>Nov-2021</td>\n",
       "      <td>18%</td>\n",
       "    </tr>\n",
       "    <tr>\n",
       "      <th>4</th>\n",
       "      <td>Dec-2021</td>\n",
       "      <td>14%</td>\n",
       "    </tr>\n",
       "    <tr>\n",
       "      <th>5</th>\n",
       "      <td>Jan-2022</td>\n",
       "      <td>29%</td>\n",
       "    </tr>\n",
       "    <tr>\n",
       "      <th>6</th>\n",
       "      <td>Feb-2022</td>\n",
       "      <td>42%</td>\n",
       "    </tr>\n",
       "  </tbody>\n",
       "</table>\n",
       "</div>"
      ],
      "text/plain": [
       "      Month Attribution %\n",
       "1  Sep-2021           45%\n",
       "2  Oct-2021           32%\n",
       "3  Nov-2021           18%\n",
       "4  Dec-2021           14%\n",
       "5  Jan-2022           29%\n",
       "6  Feb-2022           42%"
      ]
     },
     "execution_count": 11,
     "metadata": {},
     "output_type": "execute_result"
    }
   ],
   "source": [
    "materialistic_attribute"
   ]
  },
  {
   "cell_type": "code",
   "execution_count": null,
   "metadata": {},
   "outputs": [],
   "source": []
  },
  {
   "cell_type": "code",
   "execution_count": null,
   "metadata": {},
   "outputs": [],
   "source": []
  },
  {
   "cell_type": "code",
   "execution_count": null,
   "metadata": {},
   "outputs": [],
   "source": []
  },
  {
   "cell_type": "code",
   "execution_count": null,
   "metadata": {},
   "outputs": [],
   "source": []
  }
 ],
 "metadata": {
  "interpreter": {
   "hash": "aee8b7b246df8f9039afb4144a1f6fd8d2ca17a180786b69acc140d282b71a49"
  },
  "kernelspec": {
   "display_name": "Python 3.6.5 64-bit",
   "language": "python",
   "name": "python3"
  },
  "language_info": {
   "codemirror_mode": {
    "name": "ipython",
    "version": 3
   },
   "file_extension": ".py",
   "mimetype": "text/x-python",
   "name": "python",
   "nbconvert_exporter": "python",
   "pygments_lexer": "ipython3",
   "version": "3.6.5"
  },
  "orig_nbformat": 4
 },
 "nbformat": 4,
 "nbformat_minor": 2
}
