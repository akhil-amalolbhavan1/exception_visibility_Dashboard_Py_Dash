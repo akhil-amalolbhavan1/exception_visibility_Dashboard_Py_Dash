{
 "cells": [
  {
   "cell_type": "code",
   "execution_count": 1,
   "metadata": {},
   "outputs": [],
   "source": [
    "from logging import error, exception\n",
    "# from httplib2.error import FailedToDecompressContent\n",
    "import pandas as pd\n",
    "import pygsheets\n",
    "import os\n",
    "from datetime import datetime, date\n",
    "import sys\n",
    "\n",
    "import gsheet_utility as gsheetUtility\n",
    "import Email_Code as fkEmail\n",
    "import data_processing as data_processing\n",
    "import numpy as np"
   ]
  },
  {
   "cell_type": "code",
   "execution_count": 2,
   "metadata": {},
   "outputs": [],
   "source": [
    "basePath = '/Users/a/Documents/GitHub/exception_visibility/'\n",
    "date_master_file = pd.read_csv( '/Users/a/Documents/GitHub/exception_visibility/Dashboard/data/week_details.csv')\n",
    "date_master_file['weekday'] = pd.to_datetime(date_master_file[\"weekday\"],format = '%d/%m/%Y').dt.date\n",
    "date_master_file['month_year'] = pd.to_datetime(date_master_file[\"month_year\"],format = '%d/%m/%Y').dt.date\n",
    "\n",
    "rc_raw_data_location = basePath + 'ETL/RC_Raw_Data/'\n",
    "mh_raw_data_location = basePath + 'ETL/MH_Raw_Data/'\n",
    "orphan_raw_data_location = basePath + 'ETL/Orphan_Raw_Data/'\n",
    "hv_orphan_raw_data_location = basePath + 'ETL/HV_Orphan_Raw_Data/'\n",
    "logistics_raw_data_location = basePath + 'ETL/Logistics_Raw_Data/'\n",
    "\n",
    "today = date.today()\n",
    "today = str(today.year) + \"-\" + str('{:02d}'.format(today.month)) + \"-\" + str('{:02d}'.format(today.day))\n",
    "\n",
    "rcgsheetdatapath = basePath + 'ETL/gsheet_data/rc_data/' + today + '.csv'\n",
    "mhgsheetdatapath = basePath + 'ETL/gsheet_data/mh_data/' + today + '.csv'\n",
    "orphangsheetdatapath = basePath + 'ETL/gsheet_data/orphan_data/' + today + '.csv'\n",
    "hv_orphangsheetdatapath = basePath + 'ETL/gsheet_data/hv_orphan_data/' + today + '.csv'\n",
    "logisticsgsheetdatapath = basePath + 'ETL/gsheet_data/hv_orphan_data/' + today + '.csv'\n",
    "\n",
    "error_message = ''\n",
    "html_message = ''"
   ]
  },
  {
   "cell_type": "code",
   "execution_count": 3,
   "metadata": {},
   "outputs": [
    {
     "name": "stdout",
     "output_type": "stream",
     "text": [
      "12/23/2021 09:16:12 Starting Logistics data process\n",
      "12/23/2021, 09:16:12 Starting Fetching Gsheet Data\n",
      "12/23/2021, 09:16:25 Fetching Gsheet Completed\n",
      "logistics\n",
      "A2\n",
      "12/23/2021 09:16:26 Fetching Logistics orphan data process Completed\n",
      "Converting scanned_timestamp to datetime\n",
      "Converted scanned_timestamp to datetime\n",
      "mapping dates and weekend to scanned date\n",
      "12/23/2021 09:17:02 Starting to create Logistics orphan raw data files\n",
      "fetching names of already created raw files\n",
      "started creating raw files\n",
      "creating raw file for the date 2021-10-04.csv\n",
      "creating raw file for the date 2021-10-05.csv\n",
      "creating raw file for the date 2021-10-06.csv\n",
      "creating raw file for the date 2021-10-07.csv\n",
      "creating raw file for the date 2021-10-08.csv\n",
      "creating raw file for the date 2021-10-09.csv\n",
      "creating raw file for the date 2021-10-10.csv\n",
      "creating raw file for the date 2021-10-11.csv\n",
      "creating raw file for the date 2021-10-12.csv\n",
      "creating raw file for the date 2021-10-13.csv\n",
      "creating raw file for the date 2021-10-14.csv\n",
      "creating raw file for the date 2021-10-15.csv\n",
      "creating raw file for the date 2021-10-16.csv\n",
      "creating raw file for the date 2021-10-17.csv\n",
      "creating raw file for the date 2021-10-18.csv\n",
      "creating raw file for the date 2021-10-19.csv\n",
      "creating raw file for the date 2021-10-20.csv\n",
      "creating raw file for the date 2021-10-21.csv\n",
      "creating raw file for the date 2021-10-22.csv\n",
      "creating raw file for the date 2021-10-23.csv\n",
      "creating raw file for the date 2021-10-24.csv\n",
      "creating raw file for the date 2021-10-25.csv\n",
      "creating raw file for the date 2021-10-26.csv\n",
      "creating raw file for the date 2021-10-27.csv\n",
      "creating raw file for the date 2021-10-28.csv\n",
      "creating raw file for the date 2021-10-29.csv\n",
      "creating raw file for the date 2021-10-30.csv\n",
      "creating raw file for the date 2021-10-31.csv\n",
      "creating raw file for the date 2021-11-01.csv\n",
      "creating raw file for the date 2021-11-02.csv\n",
      "creating raw file for the date 2021-11-03.csv\n",
      "creating raw file for the date 2021-11-04.csv\n",
      "creating raw file for the date 2021-11-05.csv\n",
      "creating raw file for the date 2021-11-06.csv\n",
      "creating raw file for the date 2021-11-07.csv\n",
      "creating raw file for the date 2021-11-08.csv\n",
      "creating raw file for the date 2021-11-09.csv\n",
      "creating raw file for the date 2021-11-10.csv\n",
      "creating raw file for the date 2021-11-11.csv\n",
      "creating raw file for the date 2021-11-12.csv\n",
      "creating raw file for the date 2021-11-13.csv\n",
      "creating raw file for the date 2021-11-14.csv\n",
      "creating raw file for the date 2021-11-15.csv\n",
      "creating raw file for the date 2021-11-16.csv\n",
      "creating raw file for the date 2021-11-17.csv\n",
      "creating raw file for the date 2021-11-18.csv\n",
      "creating raw file for the date 2021-11-19.csv\n",
      "creating raw file for the date 2021-11-20.csv\n",
      "creating raw file for the date 2021-11-21.csv\n",
      "creating raw file for the date 2021-11-22.csv\n",
      "creating raw file for the date 2021-11-23.csv\n",
      "creating raw file for the date 2021-11-24.csv\n",
      "creating raw file for the date 2021-11-25.csv\n",
      "creating raw file for the date 2021-11-26.csv\n",
      "creating raw file for the date 2021-11-27.csv\n",
      "creating raw file for the date 2021-11-28.csv\n",
      "creating raw file for the date 2021-11-29.csv\n",
      "creating raw file for the date 2021-11-30.csv\n",
      "creating raw file for the date 2021-12-01.csv\n",
      "creating raw file for the date 2021-12-02.csv\n",
      "creating raw file for the date 2021-12-03.csv\n",
      "creating raw file for the date 2021-12-04.csv\n",
      "creating raw file for the date 2021-12-05.csv\n",
      "creating raw file for the date 2021-12-06.csv\n",
      "creating raw file for the date 2021-12-07.csv\n",
      "creating raw file for the date 2021-12-08.csv\n",
      "creating raw file for the date 2021-12-09.csv\n",
      "creating raw file for the date 2021-12-10.csv\n",
      "creating raw file for the date 2021-12-11.csv\n",
      "creating raw file for the date 2021-12-12.csv\n",
      "creating raw file for the date 2021-12-13.csv\n",
      "creating raw file for the date 2021-12-14.csv\n",
      "creating raw file for the date 2021-12-15.csv\n",
      "creating raw file for the date 2021-12-16.csv\n",
      "creating raw file for the date 2021-12-17.csv\n",
      "creating raw file for the date 2021-12-18.csv\n",
      "creating raw file for the date 2021-12-19.csv\n",
      "creating raw file for the date 2021-12-20.csv\n",
      "creating raw file for the date 2021-12-21.csv\n",
      "creating raw file for the date 2021-12-22.csv\n",
      "creating raw file for the date 2021-12-23.csv\n",
      "copmpleted creating 81 files \n",
      "12/23/2021 09:17:03 Completed creating Logistics orphan raw data files\n",
      "12/23/2021 09:17:03 Starting to collate data for Logistics dashboard\n",
      "fetching names of already created raw files\n"
     ]
    }
   ],
   "source": [
    "html_message = html_message + \"Data Ingestion Job for Logistics started at : \" + datetime.now().strftime(\"%m/%d/%Y %H:%M:%S\") + '<br>'\n",
    "print(datetime.now().strftime(\"%m/%d/%Y %H:%M:%S\") + ' Starting Logistics data process')\n",
    "logisticsData = gsheetUtility.get_gsheet_data('https://docs.google.com/spreadsheets/d/1beqaUyvM7gb8qVnl9sQdQokzKtuftfulAmqmr72IxI0/edit?usp=sharing', 'A2', logisticsgsheetdatapath,'logistics')\n",
    "\n",
    "logisticsdbcolumns = ['scanned_timestamp','email_address','zone','asset','hub_name','orphan_type','orphan_id','super_category','product_title','product_value','motherhub_name']\n",
    "html_message = html_message + \"completed fetching Logistics orphan raw data from google sheet : \" + datetime.now().strftime(\"%m/%d/%Y %H:%M:%S\") + '<br>'\n",
    "print(datetime.now().strftime(\"%m/%d/%Y %H:%M:%S\") + ' Fetching Logistics orphan data process Completed')\n",
    "logisticsData.columns=logisticsdbcolumns\n",
    "# logisticsData = gsheetUtility.assignDBColumns(logisticsData, gsheet_asset=logisticsData['asset'], dbColumns=logisticsdbcolumns)\n",
    "logisticsData = data_processing.datatype_conversion(logisticsData, 'scanned_timestamp', 'datetime')\n",
    "logisticsData['scanned_date'] = logisticsData['scanned_timestamp'].dt.date\n",
    "logisticsData = logisticsData[logisticsData.scanned_date >= pd.to_datetime('2021-10-01')]\n",
    "logisticsData = logisticsData[logisticsData.asset.isin(['Last Mile','First Mile'])]\n",
    "logisticsData = data_processing.fetch_date_details(logisticsData, 'exception_log_timestamp', date_master_file)\n",
    "\n",
    "print(datetime.now().strftime(\"%m/%d/%Y %H:%M:%S\") + ' Starting to create Logistics orphan raw data files')\n",
    "html_message = html_message + \"Starting to create Logistics orphan raw data files at : \" + datetime.now().strftime(\"%m/%d/%Y %H:%M:%S\") + '<br>'\n",
    "\n",
    "logisticsData.orphan_id = logisticsData.orphan_id.str.upper()\n",
    "filenames = []\n",
    "created_raw_files = data_processing.fetch_created_files(logistics_raw_data_location)\n",
    "filenames = data_processing.create_rewrite_raw_files(logisticsData,'scanned_date', created_raw_files, logistics_raw_data_location )\n",
    "html_message = html_message + \"Completed creating Logistics orphan raw data files at : \" + datetime.now().strftime(\"%m/%d/%Y %H:%M:%S\") + '<br>'\n",
    "print(datetime.now().strftime(\"%m/%d/%Y %H:%M:%S\") + ' Completed creating Logistics orphan raw data files')\n",
    "\n",
    "print(datetime.now().strftime(\"%m/%d/%Y %H:%M:%S\") + ' Starting to collate data for Logistics dashboard')\n",
    "html_message = html_message + \"Starting to create Logistics orphan raw data files at : \" + datetime.now().strftime(\"%m/%d/%Y %H:%M:%S\") + '<br>'\n",
    "logistics_final_columns = ['scanned_timestamp','email_address','zone','asset','hub_name','orphan_type','orphan_id','super_category','product_title','product_value', \n",
    "                        'scanned_date', 'weekend', 'month', 'year', 'month_year','weeknum']\n",
    "created_raw_files = data_processing.fetch_created_files(logistics_raw_data_location)\n",
    "logistics_dashboard_data = data_processing.collate_data_for_dashboard(datetime.now().date(), 180, created_raw_files, logistics_raw_data_location, logistics_final_columns)\n",
    "logistics_dashboard_data.to_csv(basePath + 'Dashboard/data/logistcs_orphan_full_data.csv', index=False)"
   ]
  },
  {
   "cell_type": "code",
   "execution_count": null,
   "metadata": {},
   "outputs": [],
   "source": [
    "logisticsData"
   ]
  },
  {
   "cell_type": "code",
   "execution_count": 4,
   "metadata": {},
   "outputs": [],
   "source": [
    "orpdf = pd.read_csv('/Users/a/Documents/GitHub/exception_visibility/Dashboard/data/orphan_full_data.csv', low_memory=False)\n",
    "hvdf = pd.read_csv('/Users/a/Documents/GitHub/exception_visibility/Dashboard/data/hv_orphan_full_data.csv', low_memory=False)\n",
    "logisticsdf = pd.read_csv('/Users/a/Documents/GitHub/exception_visibility/Dashboard/data/logistcs_orphan_full_data.csv', low_memory=False)\n",
    "logisticsdf = pd.read_csv('/Users/a/Documents/GitHub/exception_visibility/Dashboard/data/logistcs_orphan_full_data.csv', low_memory=False)\n",
    "rcdf = pd.read_csv('/Users/a/Documents/GitHub/exception_visibility/Dashboard/data/rc_full_data.csv', low_memory=False)"
   ]
  },
  {
   "cell_type": "code",
   "execution_count": null,
   "metadata": {},
   "outputs": [],
   "source": [
    "date_agg='month_year'\n",
    "orpdf['month_year'] = pd.to_datetime(orpdf.scanned_date).dt.strftime('%b') + '-' + pd.to_datetime(orpdf.scanned_date).dt.year.astype(str)\n",
    "logisticsdf['month_year'] = pd.to_datetime(logisticsdf.scanned_date).dt.strftime('%b') + '-' + pd.to_datetime(logisticsdf.scanned_date).dt.year.astype(str)\n",
    "hvdf['month_year'] = pd.to_datetime(hvdf.scanned_date).dt.strftime('%b') + '-' + pd.to_datetime(hvdf.scanned_date).dt.year.astype(str)\n",
    "\n",
    "month_year = ['Jan-2021','Feb-2021', 'Mar-2021','Apr-2021','May-2021','Jun-2021','Jul-2021','Aug-2021','Sep-2021','Oct-2021','Nov-2021','Dec-2021',\n",
    "                'Jan-2022','Feb-2022', 'Mar-2022','Apr-2022','May-2022','Jun-2022','Jul-2022','Aug-2022','Sep-2022','Oct-2022','Nov-2022','Dec-2022',\n",
    "                'Jan-2023','Feb-2023', 'Mar-2023','Apr-2023','May-2023','Jun-2023','Jul-2023','Aug-2023','Sep-2023','Oct-2023','Nov-2023','Dec-2023']\n",
    "# date_agg = 'year'\n",
    "if date_agg=='month_yr':\n",
    "    date_agg='month_year'\n",
    "\n",
    "orphan_pivot = pd.DataFrame(pd.pivot_table(orpdf, index='asset', columns=[date_agg], values=['scanned_timestamp'], aggfunc=len)).reset_index().rename(columns={'scanned_timestamp': 'orphan_count'})\n",
    "hv_pivot = pd.DataFrame(pd.pivot_table(hvdf, index='asset', columns=[date_agg], values=['scanned_timestamp'], aggfunc=len)).reset_index().rename(columns={'scanned_timestamp': 'orphan_count'})\n",
    "logistics_pivot = pd.DataFrame(pd.pivot_table(logisticsdf, index='asset', columns=[date_agg], values=['scanned_timestamp'], aggfunc=len)).reset_index().rename(columns={'scanned_timestamp': 'orphan_count'})\n",
    "\n",
    "overall_orphans_generated = orphan_pivot.append(logistics_pivot).append(hv_pivot).fillna('0')\n",
    "overall_orphans_generated.columns = overall_orphans_generated.columns.droplevel(0)\n",
    "overall_orphans_generated.rename(columns={'':'asset'}, inplace=True)\n",
    "if date_agg=='month_year':    \n",
    "    table_columns = [x for x in month_year if x in overall_orphans_generated.columns.tolist()]\n",
    "    table_columns.insert(0,'asset')\n",
    "    overall_orphans_generated[table_columns].reset_index().drop(columns='index')\n"
   ]
  },
  {
   "cell_type": "code",
   "execution_count": 13,
   "metadata": {},
   "outputs": [],
   "source": [
    "lastmile_df = logisticsdf[logisticsdf.asset=='Last Mile']\n",
    "merged_lastmile = pd.merge(lastmile_df[~lastmile_df.orphan_id.isna()], rcdf[~rcdf.orphan_id.isna()][['orphan_id']], left_on='orphan_id', right_on = 'orphan_id', how='left')\n",
    "merged_lastmile['age']=0\n",
    "merged_lastmile['age'] = (datetime.today().date() - pd.to_datetime(merged_lastmile['scanned_date']).dt.date)/np.timedelta64(1, 'D')"
   ]
  },
  {
   "cell_type": "code",
   "execution_count": 14,
   "metadata": {},
   "outputs": [
    {
     "data": {
      "text/html": [
       "<div>\n",
       "<style scoped>\n",
       "    .dataframe tbody tr th:only-of-type {\n",
       "        vertical-align: middle;\n",
       "    }\n",
       "\n",
       "    .dataframe tbody tr th {\n",
       "        vertical-align: top;\n",
       "    }\n",
       "\n",
       "    .dataframe thead th {\n",
       "        text-align: right;\n",
       "    }\n",
       "</style>\n",
       "<table border=\"1\" class=\"dataframe\">\n",
       "  <thead>\n",
       "    <tr style=\"text-align: right;\">\n",
       "      <th></th>\n",
       "      <th>ageing_category</th>\n",
       "      <th>asset</th>\n",
       "      <th>orphan_count</th>\n",
       "    </tr>\n",
       "  </thead>\n",
       "  <tbody>\n",
       "    <tr>\n",
       "      <th>0</th>\n",
       "      <td>1-9 days</td>\n",
       "      <td>Last Mile</td>\n",
       "      <td>1933</td>\n",
       "    </tr>\n",
       "    <tr>\n",
       "      <th>1</th>\n",
       "      <td>10-16 days</td>\n",
       "      <td>Last Mile</td>\n",
       "      <td>2062</td>\n",
       "    </tr>\n",
       "    <tr>\n",
       "      <th>2</th>\n",
       "      <td>17-23</td>\n",
       "      <td>Last Mile</td>\n",
       "      <td>1447</td>\n",
       "    </tr>\n",
       "    <tr>\n",
       "      <th>3</th>\n",
       "      <td>24-31</td>\n",
       "      <td>Last Mile</td>\n",
       "      <td>1630</td>\n",
       "    </tr>\n",
       "    <tr>\n",
       "      <th>4</th>\n",
       "      <td>Older 31 days</td>\n",
       "      <td>Last Mile</td>\n",
       "      <td>6170</td>\n",
       "    </tr>\n",
       "  </tbody>\n",
       "</table>\n",
       "</div>"
      ],
      "text/plain": [
       "  ageing_category      asset  orphan_count\n",
       "0        1-9 days  Last Mile          1933\n",
       "1      10-16 days  Last Mile          2062\n",
       "2           17-23  Last Mile          1447\n",
       "3           24-31  Last Mile          1630\n",
       "4   Older 31 days  Last Mile          6170"
      ]
     },
     "execution_count": 14,
     "metadata": {},
     "output_type": "execute_result"
    }
   ],
   "source": [
    "merged_lastmile['ageing_category'] = merged_lastmile['age'].apply(lambda x: '1-9 days' if x <= 9 else ('10-16 days' if ((x >9) & (x <= 16) ) else ('17-23') if ((x >16) & (x <= 23) ) else ('24-31' if ((x >23) & (x <= 31) ) else 'Older 31 days')))\n",
    "pd.DataFrame(pd.pivot_table(merged_lastmile[~merged_lastmile.orphan_id.isna()], index=['ageing_category','asset'], values=['scanned_timestamp'], aggfunc=len)).reset_index().rename(columns={'scanned_timestamp': 'orphan_count'})"
   ]
  },
  {
   "cell_type": "code",
   "execution_count": 8,
   "metadata": {},
   "outputs": [
    {
     "data": {
      "text/plain": [
       "Index(['scanned_timestamp', 'email_address', 'zone', 'asset_x', 'hub_name',\n",
       "       'orphan_type', 'orphan_id', 'super_category', 'product_title_x',\n",
       "       'product_value', 'scanned_date_x', 'weekend_x', 'month_x', 'year_x',\n",
       "       'month_year_x', 'weeknum_x', 'rc_received_timestamp', 'received_by',\n",
       "       'rc_name', 'orphan_id_condition', 'fsn_identified_warehouse', 'wsn_id',\n",
       "       'final_area_rc', 'business_unit', 'supercategory', 'expiry_date',\n",
       "       'product_title_y', 'packaging_condition', 'asset_y',\n",
       "       'physical_segregation', 'quantity', 'scan_box_id', 'scanned_date_y',\n",
       "       'weekend_y', 'month_y', 'year_y', 'month_year_y', 'weeknum_y', 'age'],\n",
       "      dtype='object')"
      ]
     },
     "execution_count": 8,
     "metadata": {},
     "output_type": "execute_result"
    }
   ],
   "source": [
    "merged_lastmile.columns"
   ]
  },
  {
   "cell_type": "code",
   "execution_count": null,
   "metadata": {},
   "outputs": [],
   "source": []
  },
  {
   "cell_type": "code",
   "execution_count": null,
   "metadata": {},
   "outputs": [],
   "source": []
  },
  {
   "cell_type": "code",
   "execution_count": null,
   "metadata": {},
   "outputs": [],
   "source": []
  },
  {
   "cell_type": "code",
   "execution_count": null,
   "metadata": {},
   "outputs": [],
   "source": [
    "orphan_columns"
   ]
  },
  {
   "cell_type": "code",
   "execution_count": null,
   "metadata": {},
   "outputs": [],
   "source": [
    "# if date_agg=='month_yr':\n",
    "table_columns = [x for x in month_year if x in overall_orphans_generated.columns]\n",
    "table_columns.insert(0,'asset')\n",
    "# print(table_columns)\n",
    "overall_orphans_generated[table_columns]\n",
    "print(table_columns)"
   ]
  },
  {
   "cell_type": "code",
   "execution_count": null,
   "metadata": {},
   "outputs": [],
   "source": [
    "overall_orphans_generated.columns.tolist().sort(key=month_year)"
   ]
  },
  {
   "cell_type": "code",
   "execution_count": null,
   "metadata": {},
   "outputs": [],
   "source": [
    "table_columns"
   ]
  },
  {
   "cell_type": "code",
   "execution_count": null,
   "metadata": {},
   "outputs": [],
   "source": []
  }
 ],
 "metadata": {
  "interpreter": {
   "hash": "aee8b7b246df8f9039afb4144a1f6fd8d2ca17a180786b69acc140d282b71a49"
  },
  "kernelspec": {
   "display_name": "Python 3.6.5 64-bit",
   "language": "python",
   "name": "python3"
  },
  "language_info": {
   "codemirror_mode": {
    "name": "ipython",
    "version": 3
   },
   "file_extension": ".py",
   "mimetype": "text/x-python",
   "name": "python",
   "nbconvert_exporter": "python",
   "pygments_lexer": "ipython3",
   "version": "3.6.5"
  },
  "orig_nbformat": 4
 },
 "nbformat": 4,
 "nbformat_minor": 2
}
